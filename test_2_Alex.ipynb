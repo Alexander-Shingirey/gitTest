{
 "cells": [
  {
   "cell_type": "markdown",
   "metadata": {},
   "source": [
    "a.\tСгенерите датафрейм размера 4х10 и наполните его случайными целыми числами в промежутке [1,10], выведите его на экран \n",
    "\n",
    "b.\tПроведите преобразование: Для тех строк, в которых число во 2 колонке больше 3, поделите число в 4 колонке на число из 2 колонки\n",
    "\n",
    "c.\tВыведите получившийся датафрейм на экран, посчитайте разницу сумм колонок между исходным датафреймом и тем, что получился после преобразований"
   ]
  },
  {
   "cell_type": "code",
   "execution_count": 1,
   "metadata": {},
   "outputs": [],
   "source": [
    "import numpy as np\n",
    "import pandas as pd"
   ]
  },
  {
   "cell_type": "code",
   "execution_count": 2,
   "metadata": {},
   "outputs": [],
   "source": [
    "df = pd.DataFrame(np.random.randint(1, 10, size=(10, 4)))"
   ]
  },
  {
   "cell_type": "code",
   "execution_count": 3,
   "metadata": {
    "scrolled": true
   },
   "outputs": [
    {
     "data": {
      "text/html": [
       "<div>\n",
       "<style scoped>\n",
       "    .dataframe tbody tr th:only-of-type {\n",
       "        vertical-align: middle;\n",
       "    }\n",
       "\n",
       "    .dataframe tbody tr th {\n",
       "        vertical-align: top;\n",
       "    }\n",
       "\n",
       "    .dataframe thead th {\n",
       "        text-align: right;\n",
       "    }\n",
       "</style>\n",
       "<table border=\"1\" class=\"dataframe\">\n",
       "  <thead>\n",
       "    <tr style=\"text-align: right;\">\n",
       "      <th></th>\n",
       "      <th>0</th>\n",
       "      <th>1</th>\n",
       "      <th>2</th>\n",
       "      <th>3</th>\n",
       "    </tr>\n",
       "  </thead>\n",
       "  <tbody>\n",
       "    <tr>\n",
       "      <td>0</td>\n",
       "      <td>7</td>\n",
       "      <td>6</td>\n",
       "      <td>8</td>\n",
       "      <td>1</td>\n",
       "    </tr>\n",
       "    <tr>\n",
       "      <td>1</td>\n",
       "      <td>8</td>\n",
       "      <td>3</td>\n",
       "      <td>7</td>\n",
       "      <td>8</td>\n",
       "    </tr>\n",
       "    <tr>\n",
       "      <td>2</td>\n",
       "      <td>8</td>\n",
       "      <td>9</td>\n",
       "      <td>1</td>\n",
       "      <td>1</td>\n",
       "    </tr>\n",
       "    <tr>\n",
       "      <td>3</td>\n",
       "      <td>1</td>\n",
       "      <td>1</td>\n",
       "      <td>4</td>\n",
       "      <td>2</td>\n",
       "    </tr>\n",
       "    <tr>\n",
       "      <td>4</td>\n",
       "      <td>8</td>\n",
       "      <td>6</td>\n",
       "      <td>6</td>\n",
       "      <td>4</td>\n",
       "    </tr>\n",
       "    <tr>\n",
       "      <td>5</td>\n",
       "      <td>1</td>\n",
       "      <td>4</td>\n",
       "      <td>5</td>\n",
       "      <td>6</td>\n",
       "    </tr>\n",
       "    <tr>\n",
       "      <td>6</td>\n",
       "      <td>2</td>\n",
       "      <td>8</td>\n",
       "      <td>7</td>\n",
       "      <td>9</td>\n",
       "    </tr>\n",
       "    <tr>\n",
       "      <td>7</td>\n",
       "      <td>5</td>\n",
       "      <td>5</td>\n",
       "      <td>1</td>\n",
       "      <td>4</td>\n",
       "    </tr>\n",
       "    <tr>\n",
       "      <td>8</td>\n",
       "      <td>7</td>\n",
       "      <td>5</td>\n",
       "      <td>6</td>\n",
       "      <td>6</td>\n",
       "    </tr>\n",
       "    <tr>\n",
       "      <td>9</td>\n",
       "      <td>5</td>\n",
       "      <td>1</td>\n",
       "      <td>4</td>\n",
       "      <td>7</td>\n",
       "    </tr>\n",
       "  </tbody>\n",
       "</table>\n",
       "</div>"
      ],
      "text/plain": [
       "   0  1  2  3\n",
       "0  7  6  8  1\n",
       "1  8  3  7  8\n",
       "2  8  9  1  1\n",
       "3  1  1  4  2\n",
       "4  8  6  6  4\n",
       "5  1  4  5  6\n",
       "6  2  8  7  9\n",
       "7  5  5  1  4\n",
       "8  7  5  6  6\n",
       "9  5  1  4  7"
      ]
     },
     "execution_count": 3,
     "metadata": {},
     "output_type": "execute_result"
    }
   ],
   "source": [
    "df1 = df.copy()\n",
    "df1"
   ]
  },
  {
   "cell_type": "code",
   "execution_count": 4,
   "metadata": {},
   "outputs": [],
   "source": [
    "mask = df1[1] > 3"
   ]
  },
  {
   "cell_type": "code",
   "execution_count": 5,
   "metadata": {},
   "outputs": [],
   "source": [
    "df1.loc[mask, 3] = (df1.loc[mask, 3] / df1.loc[mask, 1]).astype(int)"
   ]
  },
  {
   "cell_type": "code",
   "execution_count": 6,
   "metadata": {},
   "outputs": [
    {
     "name": "stdout",
     "output_type": "stream",
     "text": [
      "   0  1  2  3\n",
      "0  7  6  8  1\n",
      "1  8  3  7  8\n",
      "2  8  9  1  1\n",
      "3  1  1  4  2\n",
      "4  8  6  6  4\n",
      "5  1  4  5  6\n",
      "6  2  8  7  9\n",
      "7  5  5  1  4\n",
      "8  7  5  6  6\n",
      "9  5  1  4  7\n",
      "\n",
      "   0  1  2  3\n",
      "0  7  6  8  0\n",
      "1  8  3  7  8\n",
      "2  8  9  1  0\n",
      "3  1  1  4  2\n",
      "4  8  6  6  0\n",
      "5  1  4  5  1\n",
      "6  2  8  7  1\n",
      "7  5  5  1  0\n",
      "8  7  5  6  1\n",
      "9  5  1  4  7\n"
     ]
    }
   ],
   "source": [
    "print(df, df1, sep='\\n\\n')"
   ]
  },
  {
   "cell_type": "code",
   "execution_count": 7,
   "metadata": {},
   "outputs": [
    {
     "data": {
      "text/plain": [
       "0     0\n",
       "1     0\n",
       "2     0\n",
       "3    28\n",
       "dtype: int64"
      ]
     },
     "execution_count": 7,
     "metadata": {},
     "output_type": "execute_result"
    }
   ],
   "source": [
    "df.sum() - df1.sum()"
   ]
  },
  {
   "cell_type": "markdown",
   "metadata": {},
   "source": [
    "Откройте архивированный csv файл с данными. Там находятся логи о посещениях страниц сайта. Страницы находятся в поле ‘event’, событие event_9 считается целевым (покупка). Событие ‘lost’ означает уход пользователя с сайта. Вам нужно:\n",
    "\n",
    "i.\tВычислите средний промежуток времени между сессиями (в минутах)"
   ]
  },
  {
   "cell_type": "code",
   "execution_count": 8,
   "metadata": {
    "scrolled": false
   },
   "outputs": [],
   "source": [
    "data = pd.read_csv(r'./test_task.csv.gz', parse_dates=['timestamp'])"
   ]
  },
  {
   "cell_type": "code",
   "execution_count": 9,
   "metadata": {},
   "outputs": [],
   "source": [
    "data['next_time'] = data['timestamp'].shift(-1)"
   ]
  },
  {
   "cell_type": "code",
   "execution_count": 10,
   "metadata": {},
   "outputs": [
    {
     "data": {
      "text/html": [
       "<div>\n",
       "<style scoped>\n",
       "    .dataframe tbody tr th:only-of-type {\n",
       "        vertical-align: middle;\n",
       "    }\n",
       "\n",
       "    .dataframe tbody tr th {\n",
       "        vertical-align: top;\n",
       "    }\n",
       "\n",
       "    .dataframe thead th {\n",
       "        text-align: right;\n",
       "    }\n",
       "</style>\n",
       "<table border=\"1\" class=\"dataframe\">\n",
       "  <thead>\n",
       "    <tr style=\"text-align: right;\">\n",
       "      <th></th>\n",
       "      <th>client_id</th>\n",
       "      <th>session</th>\n",
       "      <th>event</th>\n",
       "      <th>timestamp</th>\n",
       "      <th>next_time</th>\n",
       "    </tr>\n",
       "  </thead>\n",
       "  <tbody>\n",
       "    <tr>\n",
       "      <td>0</td>\n",
       "      <td>136651</td>\n",
       "      <td>1366511</td>\n",
       "      <td>sleep1-&gt;event_1</td>\n",
       "      <td>2020-05-01 00:00:00.000000000</td>\n",
       "      <td>2020-05-01 00:00:00.199838279</td>\n",
       "    </tr>\n",
       "    <tr>\n",
       "      <td>1</td>\n",
       "      <td>136651</td>\n",
       "      <td>1366511</td>\n",
       "      <td>sleep1-&gt;event_2</td>\n",
       "      <td>2020-05-01 00:00:00.199838279</td>\n",
       "      <td>2020-05-01 00:00:00.729752253</td>\n",
       "    </tr>\n",
       "    <tr>\n",
       "      <td>2</td>\n",
       "      <td>136651</td>\n",
       "      <td>1366511</td>\n",
       "      <td>sleep1-&gt;event_3</td>\n",
       "      <td>2020-05-01 00:00:00.729752253</td>\n",
       "      <td>2020-05-01 00:00:01.263877058</td>\n",
       "    </tr>\n",
       "    <tr>\n",
       "      <td>3</td>\n",
       "      <td>136651</td>\n",
       "      <td>1366511</td>\n",
       "      <td>sleep1-&gt;event_6</td>\n",
       "      <td>2020-05-01 00:00:01.263877058</td>\n",
       "      <td>2020-05-01 00:00:01.804570372</td>\n",
       "    </tr>\n",
       "    <tr>\n",
       "      <td>4</td>\n",
       "      <td>136651</td>\n",
       "      <td>1366511</td>\n",
       "      <td>lost</td>\n",
       "      <td>2020-05-01 00:00:01.804570372</td>\n",
       "      <td>2020-05-01 00:00:00.000000000</td>\n",
       "    </tr>\n",
       "    <tr>\n",
       "      <td>5</td>\n",
       "      <td>136652</td>\n",
       "      <td>1366521</td>\n",
       "      <td>sleep1-&gt;event_1</td>\n",
       "      <td>2020-05-01 00:00:00.000000000</td>\n",
       "      <td>2020-05-01 00:00:00.421842598</td>\n",
       "    </tr>\n",
       "    <tr>\n",
       "      <td>6</td>\n",
       "      <td>136652</td>\n",
       "      <td>1366521</td>\n",
       "      <td>lost</td>\n",
       "      <td>2020-05-01 00:00:00.421842598</td>\n",
       "      <td>2020-05-01 00:00:00.000000000</td>\n",
       "    </tr>\n",
       "    <tr>\n",
       "      <td>7</td>\n",
       "      <td>136653</td>\n",
       "      <td>1366531</td>\n",
       "      <td>sleep1-&gt;event_1</td>\n",
       "      <td>2020-05-01 00:00:00.000000000</td>\n",
       "      <td>2020-05-01 00:00:00.595333456</td>\n",
       "    </tr>\n",
       "    <tr>\n",
       "      <td>8</td>\n",
       "      <td>136653</td>\n",
       "      <td>1366531</td>\n",
       "      <td>sleep1-&gt;event_2</td>\n",
       "      <td>2020-05-01 00:00:00.595333456</td>\n",
       "      <td>2020-05-01 00:00:00.858637468</td>\n",
       "    </tr>\n",
       "    <tr>\n",
       "      <td>9</td>\n",
       "      <td>136653</td>\n",
       "      <td>1366531</td>\n",
       "      <td>sleep1-&gt;event_3</td>\n",
       "      <td>2020-05-01 00:00:00.858637468</td>\n",
       "      <td>2020-05-01 00:00:01.457439707</td>\n",
       "    </tr>\n",
       "  </tbody>\n",
       "</table>\n",
       "</div>"
      ],
      "text/plain": [
       "   client_id  session            event                     timestamp  \\\n",
       "0     136651  1366511  sleep1->event_1 2020-05-01 00:00:00.000000000   \n",
       "1     136651  1366511  sleep1->event_2 2020-05-01 00:00:00.199838279   \n",
       "2     136651  1366511  sleep1->event_3 2020-05-01 00:00:00.729752253   \n",
       "3     136651  1366511  sleep1->event_6 2020-05-01 00:00:01.263877058   \n",
       "4     136651  1366511             lost 2020-05-01 00:00:01.804570372   \n",
       "5     136652  1366521  sleep1->event_1 2020-05-01 00:00:00.000000000   \n",
       "6     136652  1366521             lost 2020-05-01 00:00:00.421842598   \n",
       "7     136653  1366531  sleep1->event_1 2020-05-01 00:00:00.000000000   \n",
       "8     136653  1366531  sleep1->event_2 2020-05-01 00:00:00.595333456   \n",
       "9     136653  1366531  sleep1->event_3 2020-05-01 00:00:00.858637468   \n",
       "\n",
       "                      next_time  \n",
       "0 2020-05-01 00:00:00.199838279  \n",
       "1 2020-05-01 00:00:00.729752253  \n",
       "2 2020-05-01 00:00:01.263877058  \n",
       "3 2020-05-01 00:00:01.804570372  \n",
       "4 2020-05-01 00:00:00.000000000  \n",
       "5 2020-05-01 00:00:00.421842598  \n",
       "6 2020-05-01 00:00:00.000000000  \n",
       "7 2020-05-01 00:00:00.595333456  \n",
       "8 2020-05-01 00:00:00.858637468  \n",
       "9 2020-05-01 00:00:01.457439707  "
      ]
     },
     "execution_count": 10,
     "metadata": {},
     "output_type": "execute_result"
    }
   ],
   "source": [
    "data.head(10)"
   ]
  },
  {
   "cell_type": "code",
   "execution_count": 11,
   "metadata": {},
   "outputs": [],
   "source": [
    "temp = data.groupby('session')[['session', 'timestamp', 'next_time']].last()"
   ]
  },
  {
   "cell_type": "code",
   "execution_count": 12,
   "metadata": {},
   "outputs": [
    {
     "data": {
      "text/html": [
       "<div>\n",
       "<style scoped>\n",
       "    .dataframe tbody tr th:only-of-type {\n",
       "        vertical-align: middle;\n",
       "    }\n",
       "\n",
       "    .dataframe tbody tr th {\n",
       "        vertical-align: top;\n",
       "    }\n",
       "\n",
       "    .dataframe thead th {\n",
       "        text-align: right;\n",
       "    }\n",
       "</style>\n",
       "<table border=\"1\" class=\"dataframe\">\n",
       "  <thead>\n",
       "    <tr style=\"text-align: right;\">\n",
       "      <th></th>\n",
       "      <th>session</th>\n",
       "      <th>timestamp</th>\n",
       "      <th>next_time</th>\n",
       "    </tr>\n",
       "    <tr>\n",
       "      <th>session</th>\n",
       "      <th></th>\n",
       "      <th></th>\n",
       "      <th></th>\n",
       "    </tr>\n",
       "  </thead>\n",
       "  <tbody>\n",
       "    <tr>\n",
       "      <td>1366511</td>\n",
       "      <td>1366511</td>\n",
       "      <td>2020-05-01 00:00:01.804570372</td>\n",
       "      <td>2020-05-01 00:00:00.000000</td>\n",
       "    </tr>\n",
       "    <tr>\n",
       "      <td>1366521</td>\n",
       "      <td>1366521</td>\n",
       "      <td>2020-05-01 00:00:00.421842598</td>\n",
       "      <td>2020-05-01 00:00:00.000000</td>\n",
       "    </tr>\n",
       "    <tr>\n",
       "      <td>1366531</td>\n",
       "      <td>1366531</td>\n",
       "      <td>2020-05-01 00:00:02.988981776</td>\n",
       "      <td>2020-05-10 04:09:19.106087</td>\n",
       "    </tr>\n",
       "    <tr>\n",
       "      <td>1366532</td>\n",
       "      <td>1366532</td>\n",
       "      <td>2020-05-10 04:09:21.925408898</td>\n",
       "      <td>2020-05-01 00:00:00.000000</td>\n",
       "    </tr>\n",
       "    <tr>\n",
       "      <td>1366541</td>\n",
       "      <td>1366541</td>\n",
       "      <td>2020-05-01 00:00:03.048044657</td>\n",
       "      <td>2020-05-01 00:00:00.000000</td>\n",
       "    </tr>\n",
       "  </tbody>\n",
       "</table>\n",
       "</div>"
      ],
      "text/plain": [
       "         session                     timestamp                  next_time\n",
       "session                                                                  \n",
       "1366511  1366511 2020-05-01 00:00:01.804570372 2020-05-01 00:00:00.000000\n",
       "1366521  1366521 2020-05-01 00:00:00.421842598 2020-05-01 00:00:00.000000\n",
       "1366531  1366531 2020-05-01 00:00:02.988981776 2020-05-10 04:09:19.106087\n",
       "1366532  1366532 2020-05-10 04:09:21.925408898 2020-05-01 00:00:00.000000\n",
       "1366541  1366541 2020-05-01 00:00:03.048044657 2020-05-01 00:00:00.000000"
      ]
     },
     "execution_count": 12,
     "metadata": {},
     "output_type": "execute_result"
    }
   ],
   "source": [
    "temp.head()"
   ]
  },
  {
   "cell_type": "code",
   "execution_count": 13,
   "metadata": {},
   "outputs": [
    {
     "data": {
      "text/plain": [
       "Timedelta('0 days 00:02:05.895992')"
      ]
     },
     "execution_count": 13,
     "metadata": {},
     "output_type": "execute_result"
    }
   ],
   "source": [
    "(temp.next_time - temp.timestamp).mean()"
   ]
  },
  {
   "cell_type": "markdown",
   "metadata": {},
   "source": [
    "ii.\tВычислите средний промежуток времени между событиями внутри сессии (в микросекундах)"
   ]
  },
  {
   "cell_type": "code",
   "execution_count": 14,
   "metadata": {},
   "outputs": [
    {
     "data": {
      "text/plain": [
       "Timedelta('0 days 00:00:00.431372')"
      ]
     },
     "execution_count": 14,
     "metadata": {},
     "output_type": "execute_result"
    }
   ],
   "source": [
    "data.groupby('session')['timestamp'].diff().mean()"
   ]
  },
  {
   "cell_type": "markdown",
   "metadata": {},
   "source": [
    "iii.\tМы хотели бы узнать какие события чаще встречаются в «плохих» сессиях (целевого события не случилось), а какие чаще в «хороших» (целевое событие случилось). Для каждого события посчитайте:\n",
    "1.\tКол-во хороших сессий, в которых присутствовало данное событие\n",
    "2.\tКол-во плохих сессий, в которых присутствовало данное событие\n",
    "3.\tКакую информацию можно извлечь из этих двух полей? Можно ли на их основе рассчитать показатель, который бы помогал выделять события, сильно связанные с хорошим/плохим исходом? \n"
   ]
  },
  {
   "cell_type": "code",
   "execution_count": 15,
   "metadata": {},
   "outputs": [],
   "source": [
    "q = data.loc[data.event.str.contains('event_9')].groupby('session')['event'].count()"
   ]
  },
  {
   "cell_type": "code",
   "execution_count": 16,
   "metadata": {},
   "outputs": [],
   "source": [
    "data['status'] = pd.Series(np.where(data.session.isin(q.index), 'positive', 'negative'))"
   ]
  },
  {
   "cell_type": "code",
   "execution_count": 17,
   "metadata": {},
   "outputs": [
    {
     "data": {
      "text/plain": [
       "status\n",
       "negative    44670\n",
       "positive    18851\n",
       "Name: session, dtype: int64"
      ]
     },
     "execution_count": 17,
     "metadata": {},
     "output_type": "execute_result"
    }
   ],
   "source": [
    "data.groupby('status')['session'].count()"
   ]
  },
  {
   "cell_type": "code",
   "execution_count": null,
   "metadata": {},
   "outputs": [],
   "source": []
  },
  {
   "cell_type": "code",
   "execution_count": null,
   "metadata": {},
   "outputs": [],
   "source": []
  }
 ],
 "metadata": {
  "kernelspec": {
   "display_name": "Python 3",
   "language": "python",
   "name": "python3"
  },
  "language_info": {
   "codemirror_mode": {
    "name": "ipython",
    "version": 3
   },
   "file_extension": ".py",
   "mimetype": "text/x-python",
   "name": "python",
   "nbconvert_exporter": "python",
   "pygments_lexer": "ipython3",
   "version": "3.7.4"
  }
 },
 "nbformat": 4,
 "nbformat_minor": 2
}
