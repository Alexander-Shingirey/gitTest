{
 "cells": [
  {
   "cell_type": "markdown",
   "metadata": {},
   "source": [
    "a.\tСгенерите датафрейм размера 4х10 и наполните его случайными целыми числами в промежутке [1,10], выведите его на экран \n",
    "\n",
    "b.\tПроведите преобразование: Для тех строк, в которых число во 2 колонке больше 3, поделите число в 4 колонке на число из 2 колонки\n",
    "\n",
    "c.\tВыведите получившийся датафрейм на экран, посчитайте разницу сумм колонок между исходным датафреймом и тем, что получился после преобразований"
   ]
  },
  {
   "cell_type": "code",
   "execution_count": 1,
   "metadata": {},
   "outputs": [],
   "source": [
    "import numpy as np\n",
    "import pandas as pd"
   ]
  },
  {
   "cell_type": "code",
   "execution_count": 2,
   "metadata": {},
   "outputs": [],
   "source": [
    "df = pd.DataFrame(np.random.randint(1, 10, size=(10, 4)))"
   ]
  },
  {
   "cell_type": "code",
   "execution_count": 3,
   "metadata": {
    "scrolled": true
   },
   "outputs": [
    {
     "data": {
      "text/html": [
       "<div>\n",
       "<style scoped>\n",
       "    .dataframe tbody tr th:only-of-type {\n",
       "        vertical-align: middle;\n",
       "    }\n",
       "\n",
       "    .dataframe tbody tr th {\n",
       "        vertical-align: top;\n",
       "    }\n",
       "\n",
       "    .dataframe thead th {\n",
       "        text-align: right;\n",
       "    }\n",
       "</style>\n",
       "<table border=\"1\" class=\"dataframe\">\n",
       "  <thead>\n",
       "    <tr style=\"text-align: right;\">\n",
       "      <th></th>\n",
       "      <th>0</th>\n",
       "      <th>1</th>\n",
       "      <th>2</th>\n",
       "      <th>3</th>\n",
       "    </tr>\n",
       "  </thead>\n",
       "  <tbody>\n",
       "    <tr>\n",
       "      <td>0</td>\n",
       "      <td>1</td>\n",
       "      <td>1</td>\n",
       "      <td>6</td>\n",
       "      <td>6</td>\n",
       "    </tr>\n",
       "    <tr>\n",
       "      <td>1</td>\n",
       "      <td>9</td>\n",
       "      <td>8</td>\n",
       "      <td>4</td>\n",
       "      <td>8</td>\n",
       "    </tr>\n",
       "    <tr>\n",
       "      <td>2</td>\n",
       "      <td>1</td>\n",
       "      <td>5</td>\n",
       "      <td>7</td>\n",
       "      <td>3</td>\n",
       "    </tr>\n",
       "    <tr>\n",
       "      <td>3</td>\n",
       "      <td>5</td>\n",
       "      <td>5</td>\n",
       "      <td>8</td>\n",
       "      <td>6</td>\n",
       "    </tr>\n",
       "    <tr>\n",
       "      <td>4</td>\n",
       "      <td>2</td>\n",
       "      <td>1</td>\n",
       "      <td>4</td>\n",
       "      <td>7</td>\n",
       "    </tr>\n",
       "    <tr>\n",
       "      <td>5</td>\n",
       "      <td>7</td>\n",
       "      <td>9</td>\n",
       "      <td>9</td>\n",
       "      <td>4</td>\n",
       "    </tr>\n",
       "    <tr>\n",
       "      <td>6</td>\n",
       "      <td>3</td>\n",
       "      <td>2</td>\n",
       "      <td>5</td>\n",
       "      <td>9</td>\n",
       "    </tr>\n",
       "    <tr>\n",
       "      <td>7</td>\n",
       "      <td>3</td>\n",
       "      <td>1</td>\n",
       "      <td>6</td>\n",
       "      <td>4</td>\n",
       "    </tr>\n",
       "    <tr>\n",
       "      <td>8</td>\n",
       "      <td>8</td>\n",
       "      <td>4</td>\n",
       "      <td>3</td>\n",
       "      <td>7</td>\n",
       "    </tr>\n",
       "    <tr>\n",
       "      <td>9</td>\n",
       "      <td>4</td>\n",
       "      <td>4</td>\n",
       "      <td>3</td>\n",
       "      <td>9</td>\n",
       "    </tr>\n",
       "  </tbody>\n",
       "</table>\n",
       "</div>"
      ],
      "text/plain": [
       "   0  1  2  3\n",
       "0  1  1  6  6\n",
       "1  9  8  4  8\n",
       "2  1  5  7  3\n",
       "3  5  5  8  6\n",
       "4  2  1  4  7\n",
       "5  7  9  9  4\n",
       "6  3  2  5  9\n",
       "7  3  1  6  4\n",
       "8  8  4  3  7\n",
       "9  4  4  3  9"
      ]
     },
     "execution_count": 3,
     "metadata": {},
     "output_type": "execute_result"
    }
   ],
   "source": [
    "df1 = df.copy()\n",
    "df1"
   ]
  },
  {
   "cell_type": "code",
   "execution_count": 4,
   "metadata": {},
   "outputs": [],
   "source": [
    "mask = df1[1] > 3"
   ]
  },
  {
   "cell_type": "code",
   "execution_count": 5,
   "metadata": {},
   "outputs": [],
   "source": [
    "df1.loc[mask, 3] = (df1.loc[mask, 3] / df1.loc[mask, 1]).astype(int)"
   ]
  },
  {
   "cell_type": "code",
   "execution_count": 6,
   "metadata": {},
   "outputs": [
    {
     "name": "stdout",
     "output_type": "stream",
     "text": [
      "   0  1  2  3\n",
      "0  1  1  6  6\n",
      "1  9  8  4  8\n",
      "2  1  5  7  3\n",
      "3  5  5  8  6\n",
      "4  2  1  4  7\n",
      "5  7  9  9  4\n",
      "6  3  2  5  9\n",
      "7  3  1  6  4\n",
      "8  8  4  3  7\n",
      "9  4  4  3  9\n",
      "\n",
      "   0  1  2  3\n",
      "0  1  1  6  6\n",
      "1  9  8  4  1\n",
      "2  1  5  7  0\n",
      "3  5  5  8  1\n",
      "4  2  1  4  7\n",
      "5  7  9  9  0\n",
      "6  3  2  5  9\n",
      "7  3  1  6  4\n",
      "8  8  4  3  1\n",
      "9  4  4  3  2\n"
     ]
    }
   ],
   "source": [
    "print(df, df1, sep='\\n\\n')"
   ]
  },
  {
   "cell_type": "code",
   "execution_count": 7,
   "metadata": {},
   "outputs": [
    {
     "data": {
      "text/plain": [
       "0     0\n",
       "1     0\n",
       "2     0\n",
       "3    32\n",
       "dtype: int64"
      ]
     },
     "execution_count": 7,
     "metadata": {},
     "output_type": "execute_result"
    }
   ],
   "source": [
    "df.sum() - df1.sum()"
   ]
  },
  {
   "cell_type": "markdown",
   "metadata": {},
   "source": [
    "Откройте архивированный csv файл с данными. Там находятся логи о посещениях страниц сайта. Страницы находятся в поле ‘event’, событие event_9 считается целевым (покупка). Событие ‘lost’ означает уход пользователя с сайта. Вам нужно:\n",
    "\n",
    "ii.\tВычислите средний промежуток времени между событиями внутри сессии (в микросекундах)\n"
   ]
  },
  {
   "cell_type": "code",
   "execution_count": 8,
   "metadata": {
    "scrolled": true
   },
   "outputs": [],
   "source": [
    "data = pd.read_csv(r'./test_task.csv.gz', parse_dates=['timestamp'])"
   ]
  },
  {
   "cell_type": "code",
   "execution_count": 9,
   "metadata": {},
   "outputs": [
    {
     "data": {
      "text/html": [
       "<div>\n",
       "<style scoped>\n",
       "    .dataframe tbody tr th:only-of-type {\n",
       "        vertical-align: middle;\n",
       "    }\n",
       "\n",
       "    .dataframe tbody tr th {\n",
       "        vertical-align: top;\n",
       "    }\n",
       "\n",
       "    .dataframe thead th {\n",
       "        text-align: right;\n",
       "    }\n",
       "</style>\n",
       "<table border=\"1\" class=\"dataframe\">\n",
       "  <thead>\n",
       "    <tr style=\"text-align: right;\">\n",
       "      <th></th>\n",
       "      <th>client_id</th>\n",
       "      <th>session</th>\n",
       "      <th>event</th>\n",
       "      <th>timestamp</th>\n",
       "      <th>next_time</th>\n",
       "    </tr>\n",
       "  </thead>\n",
       "  <tbody>\n",
       "    <tr>\n",
       "      <td>0</td>\n",
       "      <td>136651</td>\n",
       "      <td>1366511</td>\n",
       "      <td>sleep1-&gt;event_1</td>\n",
       "      <td>2020-05-01 00:00:00.000000000</td>\n",
       "      <td>2020-05-01 00:00:00.199838279</td>\n",
       "    </tr>\n",
       "    <tr>\n",
       "      <td>1</td>\n",
       "      <td>136651</td>\n",
       "      <td>1366511</td>\n",
       "      <td>sleep1-&gt;event_2</td>\n",
       "      <td>2020-05-01 00:00:00.199838279</td>\n",
       "      <td>2020-05-01 00:00:00.729752253</td>\n",
       "    </tr>\n",
       "    <tr>\n",
       "      <td>2</td>\n",
       "      <td>136651</td>\n",
       "      <td>1366511</td>\n",
       "      <td>sleep1-&gt;event_3</td>\n",
       "      <td>2020-05-01 00:00:00.729752253</td>\n",
       "      <td>2020-05-01 00:00:01.263877058</td>\n",
       "    </tr>\n",
       "    <tr>\n",
       "      <td>3</td>\n",
       "      <td>136651</td>\n",
       "      <td>1366511</td>\n",
       "      <td>sleep1-&gt;event_6</td>\n",
       "      <td>2020-05-01 00:00:01.263877058</td>\n",
       "      <td>2020-05-01 00:00:01.804570372</td>\n",
       "    </tr>\n",
       "    <tr>\n",
       "      <td>4</td>\n",
       "      <td>136651</td>\n",
       "      <td>1366511</td>\n",
       "      <td>lost</td>\n",
       "      <td>2020-05-01 00:00:01.804570372</td>\n",
       "      <td>NaT</td>\n",
       "    </tr>\n",
       "  </tbody>\n",
       "</table>\n",
       "</div>"
      ],
      "text/plain": [
       "   client_id  session            event                     timestamp  \\\n",
       "0     136651  1366511  sleep1->event_1 2020-05-01 00:00:00.000000000   \n",
       "1     136651  1366511  sleep1->event_2 2020-05-01 00:00:00.199838279   \n",
       "2     136651  1366511  sleep1->event_3 2020-05-01 00:00:00.729752253   \n",
       "3     136651  1366511  sleep1->event_6 2020-05-01 00:00:01.263877058   \n",
       "4     136651  1366511             lost 2020-05-01 00:00:01.804570372   \n",
       "\n",
       "                      next_time  \n",
       "0 2020-05-01 00:00:00.199838279  \n",
       "1 2020-05-01 00:00:00.729752253  \n",
       "2 2020-05-01 00:00:01.263877058  \n",
       "3 2020-05-01 00:00:01.804570372  \n",
       "4                           NaT  "
      ]
     },
     "execution_count": 9,
     "metadata": {},
     "output_type": "execute_result"
    }
   ],
   "source": [
    "data['next_time'] = data.groupby('session').timestamp.shift(-1)\n",
    "data.head()"
   ]
  },
  {
   "cell_type": "code",
   "execution_count": 10,
   "metadata": {},
   "outputs": [
    {
     "data": {
      "text/plain": [
       "Timedelta('0 days 00:00:00.431372')"
      ]
     },
     "execution_count": 10,
     "metadata": {},
     "output_type": "execute_result"
    }
   ],
   "source": [
    "(data.next_time - data.timestamp).mean()"
   ]
  },
  {
   "cell_type": "code",
   "execution_count": null,
   "metadata": {},
   "outputs": [],
   "source": []
  }
 ],
 "metadata": {
  "kernelspec": {
   "display_name": "Python 3",
   "language": "python",
   "name": "python3"
  },
  "language_info": {
   "codemirror_mode": {
    "name": "ipython",
    "version": 3
   },
   "file_extension": ".py",
   "mimetype": "text/x-python",
   "name": "python",
   "nbconvert_exporter": "python",
   "pygments_lexer": "ipython3",
   "version": "3.7.4"
  }
 },
 "nbformat": 4,
 "nbformat_minor": 2
}
